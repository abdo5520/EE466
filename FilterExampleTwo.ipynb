{
  "metadata": {
    "language_info": {
      "codemirror_mode": {
        "name": "python",
        "version": 3
      },
      "file_extension": ".py",
      "mimetype": "text/x-python",
      "name": "python",
      "nbconvert_exporter": "python",
      "pygments_lexer": "ipython3",
      "version": "3.8"
    },
    "kernelspec": {
      "name": "python",
      "display_name": "Pyolite",
      "language": "python"
    }
  },
  "nbformat_minor": 4,
  "nbformat": 4,
  "cells": [
    {
      "cell_type": "code",
      "source": "import numpy as np\nfrom scipy import signal\nimport matplotlib.pyplot as plt\nimport matplotlib.pyplot as plt2\n\nnum_taps = 51 # it helps to use an odd number of taps\ncut_off = 3000 # Hz\nsample_rate = 32000 # Hz\n\n# create our low pass filter\nh = signal.firwin(num_taps, cut_off, nyq=sample_rate/2)\n\n# plot the impulse response\nplt.figure('impulse')\nplt.plot(h, '.-')\nplt.show()\n\n\n# plot the frequency response\nH = np.abs(np.fft.fft(h, 1024)) # take the 1024-point FFT and magnitude\nH = np.fft.fftshift(H) # make 0 Hz in the center\nw = np.linspace(-sample_rate/2, sample_rate/2, len(H)) # x axis\nplt.figure('freq')\nplt.plot(w, H, '.-')\nplt.show()\n\n\n# (h was found using the first code snippet)\n\n# Shift the filter in frequency by multiplying by exp(j*2*pi*f0*t)\nf0 = 10e3 # amount we will shift\nTs = 1.0/sample_rate # sample period\nt = np.arange(0.0, Ts*len(h), Ts) # time vector. args are (start, stop, step)\nexponential = np.exp(2j*np.pi*f0*t) # this is essentially a complex sine wave\n\nh_band_pass = h * exponential # do the shift\n\n# plot impulse response\nplt.figure('impulse')\nplt.plot(np.real(h_band_pass), '.-')\nplt.plot(np.imag(h_band_pass), '.-')\nplt.legend(['real', 'imag'], loc=1)\nplt.show()\n\n# plot the frequency response\nH = np.abs(np.fft.fft(h_band_pass, 1024)) # take the 1024-point FFT and magnitude\nH = np.fft.fftshift(H) # make 0 Hz in the center\nw = np.linspace(-sample_rate/2, sample_rate/2, len(H)) # x axis\nplt.figure('freq')\nplt.plot(w, H, '.-')\nplt.xlabel('Frequency [Hz]')\nplt.show()",
      "metadata": {
        "trusted": true
      },
      "execution_count": null,
      "outputs": []
    },
    {
      "cell_type": "code",
      "source": "",
      "metadata": {},
      "execution_count": null,
      "outputs": []
    }
  ]
}